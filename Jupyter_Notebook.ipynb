{
 "cells": [
  {
   "cell_type": "markdown",
   "metadata": {},
   "source": [
    "<center>\n",
    "    <img src=\"https://cf-courses-data.s3.us.cloud-object-storage.appdomain.cloud/IBMDeveloperSkillsNetwork-DS0105EN-SkillsNetwork/labs/Module2/images/SN_web_lightmode.png\" width=\"300\" alt=\"cognitiveclass.ai logo\">\n",
    "</center>\n"
   ]
  },
  {
   "cell_type": "markdown",
   "metadata": {},
   "source": [
    "#### Add your code below following the instructions given in the course\n"
   ]
  },
  {
   "cell_type": "markdown",
   "metadata": {},
   "source": [
    "# Jupyter_Notebook"
   ]
  },
  {
   "cell_type": "markdown",
   "metadata": {},
   "source": [
    "## Introduction"
   ]
  },
  {
   "cell_type": "markdown",
   "metadata": {},
   "source": [
    "### Data Science Languages:\n",
    "- python\n",
    "- R\n",
    "- Java"
   ]
  },
  {
   "cell_type": "markdown",
   "metadata": {},
   "source": [
    "### Data Science Libraries:\n",
    "- NumPy\n",
    "- pandas\n",
    "- Matplotlib\n",
    "- TensorFlow\n",
    "- Scikit-learn\n",
    "- glmNet\n",
    "- random forest"
   ]
  },
  {
   "cell_type": "markdown",
   "metadata": {},
   "source": [
    "| Stage | Tool | Description |\n",
    "|---|---|---|\n",
    "| **Data Acquisition & Wrangling** | Pandas | Powerful data manipulation and analysis library for Python. |\n",
    "| | NumPy | Efficient multidimensional array library for Python. |\n",
    "| | Scrapy | Web scraping framework for Python to extract data from websites. |\n",
    "| | dplyr (R) | Data wrangling and manipulation library for R, part of the tidyverse package. |\n",
    "| | data.table (R) | High-performance data manipulation library for R. |\n",
    "| **Data Analysis & Exploration** | Matplotlib | Python library for creating various types of plots and visualizations. |\n",
    "| | Seaborn | Python library for statistical data visualization based on Matplotlib. |\n",
    "| | ggplot2 (R) | Powerful and versatile data visualization library for R. |\n",
    "| | Statsmodels (Python) | Statistical modeling and econometrics library for Python. |\n",
    "| | MASS (R) | Collection of commonly used statistical functions in R. |\n",
    "| **Machine Learning & Modeling** | Scikit-learn | Python library for machine learning algorithms and pipelines. |\n",
    "| | TensorFlow | Open-source library for numerical computation and deep learning. |\n",
    "| | PyTorch | Open-source deep learning framework popular for its flexibility. |\n",
    "| | caret (R) | Package for model training and comparison in R. |\n",
    "| | glmnet (R) | Generalized linear models with elastic net regularization for R. |"
   ]
  },
  {
   "cell_type": "markdown",
   "metadata": {},
   "source": [
    "2+3 arithmetic operators are those operators which helps us in performing mathematical calculations"
   ]
  },
  {
   "cell_type": "code",
   "execution_count": 1,
   "metadata": {
    "tags": []
   },
   "outputs": [
    {
     "name": "stdout",
     "output_type": "stream",
     "text": [
      "5\n",
      "6\n"
     ]
    }
   ],
   "source": [
    "print(2+3)\n",
    "print(3*2)"
   ]
  },
  {
   "cell_type": "code",
   "execution_count": 2,
   "metadata": {
    "tags": []
   },
   "outputs": [
    {
     "name": "stdin",
     "output_type": "stream",
     "text": [
      "enter time in minutes: 60\n"
     ]
    },
    {
     "name": "stdout",
     "output_type": "stream",
     "text": [
      "time in hours is\n",
      "1.0\n"
     ]
    }
   ],
   "source": [
    "a=int(input(\"enter time in minutes:\"))\n",
    "print(\"time in hours is\")\n",
    "print(a/60)"
   ]
  },
  {
   "cell_type": "markdown",
   "metadata": {},
   "source": [
    "# objectives\n",
    "1. to get hands on experience with jupyter notebook\n",
    "2. to use data tools for data scinece\n",
    "3. to use github to make projects"
   ]
  },
  {
   "cell_type": "markdown",
   "metadata": {},
   "source": [
    "##### Akshat Jhalani"
   ]
  },
  {
   "cell_type": "code",
   "execution_count": null,
   "metadata": {},
   "outputs": [],
   "source": []
  }
 ],
 "metadata": {
  "kernelspec": {
   "display_name": "Python",
   "language": "python",
   "name": "conda-env-python-py"
  },
  "language_info": {
   "codemirror_mode": {
    "name": "ipython",
    "version": 3
   },
   "file_extension": ".py",
   "mimetype": "text/x-python",
   "name": "python",
   "nbconvert_exporter": "python",
   "pygments_lexer": "ipython3",
   "version": "3.7.12"
  }
 },
 "nbformat": 4,
 "nbformat_minor": 4
}
